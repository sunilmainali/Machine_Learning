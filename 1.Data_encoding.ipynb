{
 "cells": [
  {
   "cell_type": "code",
   "execution_count": null,
   "id": "405a9322-044c-4607-931d-e8c3ec4aeb24",
   "metadata": {},
   "outputs": [],
   "source": [
    "import pandas as pd\n",
    "from sklearn.preprocessing import LabelEncoder,OneHotEncoder"
   ]
  },
  {
   "cell_type": "code",
   "execution_count": 3,
   "id": "9863d3f7-db8f-4f80-9784-8f5a2bf5cfce",
   "metadata": {},
   "outputs": [
    {
     "data": {
      "text/html": [
       "<div>\n",
       "<style scoped>\n",
       "    .dataframe tbody tr th:only-of-type {\n",
       "        vertical-align: middle;\n",
       "    }\n",
       "\n",
       "    .dataframe tbody tr th {\n",
       "        vertical-align: top;\n",
       "    }\n",
       "\n",
       "    .dataframe thead th {\n",
       "        text-align: right;\n",
       "    }\n",
       "</style>\n",
       "<table border=\"1\" class=\"dataframe\">\n",
       "  <thead>\n",
       "    <tr style=\"text-align: right;\">\n",
       "      <th></th>\n",
       "      <th>year</th>\n",
       "      <th>month</th>\n",
       "      <th>stateDescription</th>\n",
       "      <th>sectorName</th>\n",
       "      <th>customers</th>\n",
       "      <th>price</th>\n",
       "      <th>revenue</th>\n",
       "      <th>sales</th>\n",
       "    </tr>\n",
       "  </thead>\n",
       "  <tbody>\n",
       "    <tr>\n",
       "      <th>0</th>\n",
       "      <td>2001</td>\n",
       "      <td>1</td>\n",
       "      <td>Wyoming</td>\n",
       "      <td>all sectors</td>\n",
       "      <td>NaN</td>\n",
       "      <td>4.31</td>\n",
       "      <td>48.12840</td>\n",
       "      <td>1116.17208</td>\n",
       "    </tr>\n",
       "    <tr>\n",
       "      <th>1</th>\n",
       "      <td>2001</td>\n",
       "      <td>1</td>\n",
       "      <td>Wyoming</td>\n",
       "      <td>commercial</td>\n",
       "      <td>NaN</td>\n",
       "      <td>5.13</td>\n",
       "      <td>12.67978</td>\n",
       "      <td>247.08691</td>\n",
       "    </tr>\n",
       "    <tr>\n",
       "      <th>2</th>\n",
       "      <td>2001</td>\n",
       "      <td>1</td>\n",
       "      <td>Wyoming</td>\n",
       "      <td>industrial</td>\n",
       "      <td>NaN</td>\n",
       "      <td>3.26</td>\n",
       "      <td>19.60858</td>\n",
       "      <td>602.30484</td>\n",
       "    </tr>\n",
       "    <tr>\n",
       "      <th>3</th>\n",
       "      <td>2001</td>\n",
       "      <td>1</td>\n",
       "      <td>Wyoming</td>\n",
       "      <td>other</td>\n",
       "      <td>NaN</td>\n",
       "      <td>4.75</td>\n",
       "      <td>0.76868</td>\n",
       "      <td>16.17442</td>\n",
       "    </tr>\n",
       "    <tr>\n",
       "      <th>4</th>\n",
       "      <td>2001</td>\n",
       "      <td>1</td>\n",
       "      <td>Wyoming</td>\n",
       "      <td>residential</td>\n",
       "      <td>NaN</td>\n",
       "      <td>6.01</td>\n",
       "      <td>15.07136</td>\n",
       "      <td>250.60591</td>\n",
       "    </tr>\n",
       "  </tbody>\n",
       "</table>\n",
       "</div>"
      ],
      "text/plain": [
       "   year  month stateDescription   sectorName  customers  price   revenue       sales\n",
       "0  2001      1          Wyoming  all sectors        NaN   4.31  48.12840  1116.17208\n",
       "1  2001      1          Wyoming   commercial        NaN   5.13  12.67978   247.08691\n",
       "2  2001      1          Wyoming   industrial        NaN   3.26  19.60858   602.30484\n",
       "3  2001      1          Wyoming        other        NaN   4.75   0.76868    16.17442\n",
       "4  2001      1          Wyoming  residential        NaN   6.01  15.07136   250.60591"
      ]
     },
     "execution_count": 3,
     "metadata": {},
     "output_type": "execute_result"
    }
   ],
   "source": [
    "data=pd.read_csv('clean_datas.csv')\n",
    "data.head()"
   ]
  },
  {
   "cell_type": "markdown",
   "id": "d260b639-1d9b-482c-bf44-e17123b27ba1",
   "metadata": {},
   "source": [
    "#### Label Encoding"
   ]
  },
  {
   "cell_type": "markdown",
   "id": "e747765d-d44d-4dcb-bda2-98c005f43067",
   "metadata": {},
   "source": [
    "> Ordinal Data\n"
   ]
  },
  {
   "cell_type": "code",
   "execution_count": 4,
   "id": "751194fa-4513-485c-836c-6d2b0e5a1802",
   "metadata": {},
   "outputs": [],
   "source": [
    "x=data['sectorName']"
   ]
  },
  {
   "cell_type": "code",
   "execution_count": 16,
   "id": "30be2044-a67e-420a-a263-e520788bd99d",
   "metadata": {},
   "outputs": [],
   "source": [
    "# pandas way\n",
    "encoded,rule=x.factorize()"
   ]
  },
  {
   "cell_type": "code",
   "execution_count": 17,
   "id": "95c1a23d-49c1-4b98-9aa7-3cc849da8d4b",
   "metadata": {},
   "outputs": [
    {
     "data": {
      "text/plain": [
       "array([0, 1, 2, ..., 2, 4, 5], shape=(85870,))"
      ]
     },
     "execution_count": 17,
     "metadata": {},
     "output_type": "execute_result"
    }
   ],
   "source": [
    "encoded"
   ]
  },
  {
   "cell_type": "code",
   "execution_count": 18,
   "id": "42ea7d85-b6bc-496c-a03b-1cbfda31cd52",
   "metadata": {},
   "outputs": [
    {
     "data": {
      "text/plain": [
       "Index(['all sectors', 'commercial', 'industrial', 'other', 'residential',\n",
       "       'transportation'],\n",
       "      dtype='object')"
      ]
     },
     "execution_count": 18,
     "metadata": {},
     "output_type": "execute_result"
    }
   ],
   "source": [
    "rule"
   ]
  },
  {
   "cell_type": "code",
   "execution_count": 19,
   "id": "b51b6b57-13ed-4a89-8a7f-cb5ea7d4a102",
   "metadata": {},
   "outputs": [],
   "source": [
    "# sklearn way\n",
    "lencoder=LabelEncoder()\n",
    "en=lencoder.fit_transform(x)\n"
   ]
  },
  {
   "cell_type": "code",
   "execution_count": 20,
   "id": "6ac35308-c063-4a10-9d01-554392188685",
   "metadata": {},
   "outputs": [
    {
     "data": {
      "text/plain": [
       "array([0, 1, 2, ..., 2, 4, 5], shape=(85870,))"
      ]
     },
     "execution_count": 20,
     "metadata": {},
     "output_type": "execute_result"
    }
   ],
   "source": [
    "en"
   ]
  },
  {
   "cell_type": "code",
   "execution_count": 21,
   "id": "675313b7-d04c-4b0f-8734-40aae00bc120",
   "metadata": {},
   "outputs": [
    {
     "data": {
      "text/plain": [
       "array(['all sectors', 'residential', 'other', 'transportation'],\n",
       "      dtype=object)"
      ]
     },
     "execution_count": 21,
     "metadata": {},
     "output_type": "execute_result"
    }
   ],
   "source": [
    "lencoder.inverse_transform([0,4,3,5])"
   ]
  },
  {
   "cell_type": "markdown",
   "id": "eccf4c66-1141-4bcb-ab73-388f2a5894ca",
   "metadata": {},
   "source": [
    "#### One-Hot Encoding\n"
   ]
  },
  {
   "cell_type": "markdown",
   "id": "b4186081-1b3e-4a5c-b2e8-eec33dd2f907",
   "metadata": {},
   "source": [
    "> Nomial Data\n"
   ]
  },
  {
   "cell_type": "code",
   "execution_count": 23,
   "id": "8a07dcfe-129b-43a0-b634-3cd7ef94c7d9",
   "metadata": {},
   "outputs": [
    {
     "data": {
      "text/html": [
       "<div>\n",
       "<style scoped>\n",
       "    .dataframe tbody tr th:only-of-type {\n",
       "        vertical-align: middle;\n",
       "    }\n",
       "\n",
       "    .dataframe tbody tr th {\n",
       "        vertical-align: top;\n",
       "    }\n",
       "\n",
       "    .dataframe thead th {\n",
       "        text-align: right;\n",
       "    }\n",
       "</style>\n",
       "<table border=\"1\" class=\"dataframe\">\n",
       "  <thead>\n",
       "    <tr style=\"text-align: right;\">\n",
       "      <th></th>\n",
       "      <th>all sectors</th>\n",
       "      <th>commercial</th>\n",
       "      <th>industrial</th>\n",
       "      <th>other</th>\n",
       "      <th>residential</th>\n",
       "      <th>transportation</th>\n",
       "    </tr>\n",
       "  </thead>\n",
       "  <tbody>\n",
       "    <tr>\n",
       "      <th>0</th>\n",
       "      <td>1</td>\n",
       "      <td>0</td>\n",
       "      <td>0</td>\n",
       "      <td>0</td>\n",
       "      <td>0</td>\n",
       "      <td>0</td>\n",
       "    </tr>\n",
       "    <tr>\n",
       "      <th>1</th>\n",
       "      <td>0</td>\n",
       "      <td>1</td>\n",
       "      <td>0</td>\n",
       "      <td>0</td>\n",
       "      <td>0</td>\n",
       "      <td>0</td>\n",
       "    </tr>\n",
       "    <tr>\n",
       "      <th>2</th>\n",
       "      <td>0</td>\n",
       "      <td>0</td>\n",
       "      <td>1</td>\n",
       "      <td>0</td>\n",
       "      <td>0</td>\n",
       "      <td>0</td>\n",
       "    </tr>\n",
       "    <tr>\n",
       "      <th>3</th>\n",
       "      <td>0</td>\n",
       "      <td>0</td>\n",
       "      <td>0</td>\n",
       "      <td>1</td>\n",
       "      <td>0</td>\n",
       "      <td>0</td>\n",
       "    </tr>\n",
       "    <tr>\n",
       "      <th>4</th>\n",
       "      <td>0</td>\n",
       "      <td>0</td>\n",
       "      <td>0</td>\n",
       "      <td>0</td>\n",
       "      <td>1</td>\n",
       "      <td>0</td>\n",
       "    </tr>\n",
       "    <tr>\n",
       "      <th>...</th>\n",
       "      <td>...</td>\n",
       "      <td>...</td>\n",
       "      <td>...</td>\n",
       "      <td>...</td>\n",
       "      <td>...</td>\n",
       "      <td>...</td>\n",
       "    </tr>\n",
       "    <tr>\n",
       "      <th>85865</th>\n",
       "      <td>1</td>\n",
       "      <td>0</td>\n",
       "      <td>0</td>\n",
       "      <td>0</td>\n",
       "      <td>0</td>\n",
       "      <td>0</td>\n",
       "    </tr>\n",
       "    <tr>\n",
       "      <th>85866</th>\n",
       "      <td>0</td>\n",
       "      <td>1</td>\n",
       "      <td>0</td>\n",
       "      <td>0</td>\n",
       "      <td>0</td>\n",
       "      <td>0</td>\n",
       "    </tr>\n",
       "    <tr>\n",
       "      <th>85867</th>\n",
       "      <td>0</td>\n",
       "      <td>0</td>\n",
       "      <td>1</td>\n",
       "      <td>0</td>\n",
       "      <td>0</td>\n",
       "      <td>0</td>\n",
       "    </tr>\n",
       "    <tr>\n",
       "      <th>85868</th>\n",
       "      <td>0</td>\n",
       "      <td>0</td>\n",
       "      <td>0</td>\n",
       "      <td>0</td>\n",
       "      <td>1</td>\n",
       "      <td>0</td>\n",
       "    </tr>\n",
       "    <tr>\n",
       "      <th>85869</th>\n",
       "      <td>0</td>\n",
       "      <td>0</td>\n",
       "      <td>0</td>\n",
       "      <td>0</td>\n",
       "      <td>0</td>\n",
       "      <td>1</td>\n",
       "    </tr>\n",
       "  </tbody>\n",
       "</table>\n",
       "<p>85870 rows × 6 columns</p>\n",
       "</div>"
      ],
      "text/plain": [
       "       all sectors  commercial  industrial  other  residential  transportation\n",
       "0                1           0           0      0            0               0\n",
       "1                0           1           0      0            0               0\n",
       "2                0           0           1      0            0               0\n",
       "3                0           0           0      1            0               0\n",
       "4                0           0           0      0            1               0\n",
       "...            ...         ...         ...    ...          ...             ...\n",
       "85865            1           0           0      0            0               0\n",
       "85866            0           1           0      0            0               0\n",
       "85867            0           0           1      0            0               0\n",
       "85868            0           0           0      0            1               0\n",
       "85869            0           0           0      0            0               1\n",
       "\n",
       "[85870 rows x 6 columns]"
      ]
     },
     "execution_count": 23,
     "metadata": {},
     "output_type": "execute_result"
    }
   ],
   "source": [
    "# pandas way\n",
    "pd.get_dummies(x,dtype=int)"
   ]
  },
  {
   "cell_type": "code",
   "execution_count": 34,
   "id": "9e263651-7534-42b6-b7ec-165d826dfea2",
   "metadata": {},
   "outputs": [],
   "source": [
    "# sklearn way\n",
    "one_hot=OneHotEncoder(sparse_output=False)\n",
    "encoder=one_hot.fit_transform(x.values.reshape(-1,1))"
   ]
  },
  {
   "cell_type": "code",
   "execution_count": 35,
   "id": "53df8a9a-2f88-4bf1-b288-ac63e0f15d73",
   "metadata": {},
   "outputs": [
    {
     "data": {
      "text/plain": [
       "array([[1., 0., 0., 0., 0., 0.],\n",
       "       [0., 1., 0., 0., 0., 0.],\n",
       "       [0., 0., 1., 0., 0., 0.],\n",
       "       ...,\n",
       "       [0., 0., 1., 0., 0., 0.],\n",
       "       [0., 0., 0., 0., 1., 0.],\n",
       "       [0., 0., 0., 0., 0., 1.]], shape=(85870, 6))"
      ]
     },
     "execution_count": 35,
     "metadata": {},
     "output_type": "execute_result"
    }
   ],
   "source": [
    "encoder"
   ]
  },
  {
   "cell_type": "code",
   "execution_count": 36,
   "id": "44b1ffd7-e862-4fdc-ac43-1be5b7d9e9ba",
   "metadata": {},
   "outputs": [
    {
     "data": {
      "text/plain": [
       "[array(['all sectors', 'commercial', 'industrial', 'other', 'residential',\n",
       "        'transportation'], dtype=object)]"
      ]
     },
     "execution_count": 36,
     "metadata": {},
     "output_type": "execute_result"
    }
   ],
   "source": [
    "one_hot.categories_"
   ]
  },
  {
   "cell_type": "code",
   "execution_count": null,
   "id": "0f5d5c58-d51d-4d15-962b-8827e975ede3",
   "metadata": {},
   "outputs": [],
   "source": []
  }
 ],
 "metadata": {
  "kernelspec": {
   "display_name": "Python 3 (ipykernel)",
   "language": "python",
   "name": "python3"
  },
  "language_info": {
   "codemirror_mode": {
    "name": "ipython",
    "version": 3
   },
   "file_extension": ".py",
   "mimetype": "text/x-python",
   "name": "python",
   "nbconvert_exporter": "python",
   "pygments_lexer": "ipython3",
   "version": "3.11.5"
  }
 },
 "nbformat": 4,
 "nbformat_minor": 5
}
