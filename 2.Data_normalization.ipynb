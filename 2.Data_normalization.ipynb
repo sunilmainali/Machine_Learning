{
 "cells": [
  {
   "cell_type": "code",
   "execution_count": 14,
   "id": "44c60d0e-0138-44f3-942d-9e2e51066269",
   "metadata": {},
   "outputs": [],
   "source": [
    "import pandas as pd\n",
    "import numpy as np \n",
    "from sklearn.preprocessing import MinMaxScaler,StandardScaler\n"
   ]
  },
  {
   "cell_type": "code",
   "execution_count": 15,
   "id": "acd7925e-59e8-473a-aa6e-68d14ef79724",
   "metadata": {},
   "outputs": [
    {
     "data": {
      "text/html": [
       "<div>\n",
       "<style scoped>\n",
       "    .dataframe tbody tr th:only-of-type {\n",
       "        vertical-align: middle;\n",
       "    }\n",
       "\n",
       "    .dataframe tbody tr th {\n",
       "        vertical-align: top;\n",
       "    }\n",
       "\n",
       "    .dataframe thead th {\n",
       "        text-align: right;\n",
       "    }\n",
       "</style>\n",
       "<table border=\"1\" class=\"dataframe\">\n",
       "  <thead>\n",
       "    <tr style=\"text-align: right;\">\n",
       "      <th></th>\n",
       "      <th>year</th>\n",
       "      <th>month</th>\n",
       "      <th>stateDescription</th>\n",
       "      <th>sectorName</th>\n",
       "      <th>customers</th>\n",
       "      <th>price</th>\n",
       "      <th>revenue</th>\n",
       "      <th>sales</th>\n",
       "    </tr>\n",
       "  </thead>\n",
       "  <tbody>\n",
       "    <tr>\n",
       "      <th>0</th>\n",
       "      <td>2001</td>\n",
       "      <td>1</td>\n",
       "      <td>Wyoming</td>\n",
       "      <td>all sectors</td>\n",
       "      <td>NaN</td>\n",
       "      <td>4.31</td>\n",
       "      <td>48.12840</td>\n",
       "      <td>1116.17208</td>\n",
       "    </tr>\n",
       "    <tr>\n",
       "      <th>1</th>\n",
       "      <td>2001</td>\n",
       "      <td>1</td>\n",
       "      <td>Wyoming</td>\n",
       "      <td>commercial</td>\n",
       "      <td>NaN</td>\n",
       "      <td>5.13</td>\n",
       "      <td>12.67978</td>\n",
       "      <td>247.08691</td>\n",
       "    </tr>\n",
       "    <tr>\n",
       "      <th>2</th>\n",
       "      <td>2001</td>\n",
       "      <td>1</td>\n",
       "      <td>Wyoming</td>\n",
       "      <td>industrial</td>\n",
       "      <td>NaN</td>\n",
       "      <td>3.26</td>\n",
       "      <td>19.60858</td>\n",
       "      <td>602.30484</td>\n",
       "    </tr>\n",
       "    <tr>\n",
       "      <th>3</th>\n",
       "      <td>2001</td>\n",
       "      <td>1</td>\n",
       "      <td>Wyoming</td>\n",
       "      <td>other</td>\n",
       "      <td>NaN</td>\n",
       "      <td>4.75</td>\n",
       "      <td>0.76868</td>\n",
       "      <td>16.17442</td>\n",
       "    </tr>\n",
       "    <tr>\n",
       "      <th>4</th>\n",
       "      <td>2001</td>\n",
       "      <td>1</td>\n",
       "      <td>Wyoming</td>\n",
       "      <td>residential</td>\n",
       "      <td>NaN</td>\n",
       "      <td>6.01</td>\n",
       "      <td>15.07136</td>\n",
       "      <td>250.60591</td>\n",
       "    </tr>\n",
       "  </tbody>\n",
       "</table>\n",
       "</div>"
      ],
      "text/plain": [
       "   year  month stateDescription   sectorName  customers  price   revenue  \\\n",
       "0  2001      1          Wyoming  all sectors        NaN   4.31  48.12840   \n",
       "1  2001      1          Wyoming   commercial        NaN   5.13  12.67978   \n",
       "2  2001      1          Wyoming   industrial        NaN   3.26  19.60858   \n",
       "3  2001      1          Wyoming        other        NaN   4.75   0.76868   \n",
       "4  2001      1          Wyoming  residential        NaN   6.01  15.07136   \n",
       "\n",
       "        sales  \n",
       "0  1116.17208  \n",
       "1   247.08691  \n",
       "2   602.30484  \n",
       "3    16.17442  \n",
       "4   250.60591  "
      ]
     },
     "execution_count": 15,
     "metadata": {},
     "output_type": "execute_result"
    }
   ],
   "source": [
    "df=pd.read_csv('clean_datas.csv')\n",
    "df.head()"
   ]
  },
  {
   "cell_type": "markdown",
   "id": "5ef04840-4e8d-4a3f-833a-6685187476df",
   "metadata": {},
   "source": [
    "#### Handling data normalization"
   ]
  },
  {
   "cell_type": "markdown",
   "id": "7d439234-fc7c-4c04-9edc-03fd1af8d7aa",
   "metadata": {},
   "source": [
    "Data normalization is the process of transforming data into a common scale or range, to eliminate differences in magnitude and make the data more comparable and interpretable. Normalization is an important step in data preprocessing, as it can improve the accuracy and performance of machine learning models and other data analysis techniques."
   ]
  },
  {
   "cell_type": "markdown",
   "id": "29cb90f2-28b8-4ccb-9f84-1e0fbece7647",
   "metadata": {},
   "source": [
    "ETL (extract, transform, load) integration: This involves extracting data from different sources, transforming it to meet the needs of the target system, and loading it into a target database or data warehouse. ETL tools are commonly used to automate this process, making it more efficient and less error-prone. Python has several powerful ETL tools like Apache Nifi, Apache Airflow, and Apache Beam. These tools allow developers to extract data from various sources, perform transformations, and load it into a target database or data warehouse."
   ]
  },
  {
   "cell_type": "markdown",
   "id": "0952833a-5e6f-4879-9948-ecebabc78376",
   "metadata": {},
   "source": [
    "##### Min-Max Normalization"
   ]
  },
  {
   "cell_type": "markdown",
   "id": "cae193c5-2492-4660-b8ef-31658cd04522",
   "metadata": {},
   "source": [
    "This method scales the data to a fixed range, typically between 0 and 1. The formula for min-max normalization is:"
   ]
  },
  {
   "cell_type": "markdown",
   "id": "18211fa3-2e07-4165-93f5-f970e1964d70",
   "metadata": {},
   "source": [
    "x_norm = (x - x_min) / (x_max - x_min)"
   ]
  },
  {
   "cell_type": "code",
   "execution_count": 16,
   "id": "2cc25064-5fa4-4765-929f-253c200a177c",
   "metadata": {},
   "outputs": [],
   "source": [
    "sales_min = df['sales'].min()\n",
    "sales_max= df['sales'].max()"
   ]
  },
  {
   "cell_type": "code",
   "execution_count": 17,
   "id": "3262a189-b5e0-4716-808c-228c4c00d3d9",
   "metadata": {},
   "outputs": [],
   "source": [
    "sales_norm=(df['sales']-sales_min)/(sales_max-sales_min)"
   ]
  },
  {
   "cell_type": "code",
   "execution_count": 18,
   "id": "185fde3a-edba-4f1c-bb65-cb2a6c28bf38",
   "metadata": {},
   "outputs": [
    {
     "data": {
      "text/plain": [
       "count    85870.000000\n",
       "mean         0.015259\n",
       "std          0.054357\n",
       "min          0.000000\n",
       "25%          0.000738\n",
       "50%          0.003694\n",
       "75%          0.011074\n",
       "max          1.000000\n",
       "Name: sales, dtype: float64"
      ]
     },
     "execution_count": 18,
     "metadata": {},
     "output_type": "execute_result"
    }
   ],
   "source": [
    "sales_norm.describe()"
   ]
  },
  {
   "cell_type": "code",
   "execution_count": 24,
   "id": "6995351c-3e23-4431-b4f8-0f3e5efafce6",
   "metadata": {},
   "outputs": [],
   "source": [
    "# Using sklearn\n",
    "scaler=MinMaxScaler()  # object creation\n",
    "norm=scaler.fit_transform(df[['sales']])"
   ]
  },
  {
   "cell_type": "code",
   "execution_count": 26,
   "id": "500eea62-0e3a-4882-989b-db9075820705",
   "metadata": {},
   "outputs": [
    {
     "name": "stdout",
     "output_type": "stream",
     "text": [
      "0.0\n",
      "1.0\n"
     ]
    }
   ],
   "source": [
    "print(norm.min())\n",
    "print(norm.max())"
   ]
  },
  {
   "cell_type": "markdown",
   "id": "1077b4fe-0864-44a0-a7b7-f137fe0aa216",
   "metadata": {},
   "source": [
    "#### Z-score Normalization / StandardScaler"
   ]
  },
  {
   "cell_type": "markdown",
   "id": "360f48e9-f5a1-4516-8992-042e4d126428",
   "metadata": {},
   "source": [
    "This method scales the data to have zero mean and unit variance. The formula for z-score normalization is:"
   ]
  },
  {
   "cell_type": "markdown",
   "id": "8f23b06e-e284-4475-bc6b-7e59efaec6f5",
   "metadata": {},
   "source": [
    "x_norm = (x - mean) / std"
   ]
  },
  {
   "cell_type": "markdown",
   "id": "d06e3307-1992-4906-a6c1-f7855229d38d",
   "metadata": {},
   "source": [
    "where x is the original value, mean and std are the mean and standard deviation of the data, respectively, and x_norm is the normalized value."
   ]
  },
  {
   "cell_type": "code",
   "execution_count": 28,
   "id": "fa21f02b-9ea7-4228-be8a-89669f93ad35",
   "metadata": {},
   "outputs": [
    {
     "data": {
      "text/plain": [
       "count    8.587000e+04\n",
       "mean    -9.681321e-18\n",
       "std      1.000000e+00\n",
       "min     -2.807211e-01\n",
       "25%     -2.671478e-01\n",
       "50%     -2.127704e-01\n",
       "75%     -7.699104e-02\n",
       "max      1.811622e+01\n",
       "Name: sales, dtype: float64"
      ]
     },
     "execution_count": 28,
     "metadata": {},
     "output_type": "execute_result"
    }
   ],
   "source": [
    "x_mean = df['sales'].mean()\n",
    "x_std= df['sales'].std()\n",
    "\n",
    "sales_norm = (df['sales'] - x_mean) / x_std\n",
    "sales_norm.describe()"
   ]
  },
  {
   "cell_type": "code",
   "execution_count": 29,
   "id": "be9a30db-20fa-47fe-ad5d-54d0dcbcf6a6",
   "metadata": {},
   "outputs": [],
   "source": [
    "# Using sklearn\n",
    "scaler= StandardScaler()\n",
    "norm=scaler.fit_transform(df[['sales']])"
   ]
  },
  {
   "cell_type": "code",
   "execution_count": 36,
   "id": "056b55d0-4cef-4904-ba8a-0db30a64c1c4",
   "metadata": {},
   "outputs": [
    {
     "name": "stdout",
     "output_type": "stream",
     "text": [
      "-0.0000\n",
      "1.0000\n"
     ]
    }
   ],
   "source": [
    "print(f\"{norm.mean():.4f}\")\n",
    "print(f\"{norm.std():.4f}\")"
   ]
  },
  {
   "cell_type": "code",
   "execution_count": null,
   "id": "3df130cf-5a88-45af-9948-84402fbe1f73",
   "metadata": {},
   "outputs": [],
   "source": []
  }
 ],
 "metadata": {
  "kernelspec": {
   "display_name": "Python 3 (ipykernel)",
   "language": "python",
   "name": "python3"
  },
  "language_info": {
   "codemirror_mode": {
    "name": "ipython",
    "version": 3
   },
   "file_extension": ".py",
   "mimetype": "text/x-python",
   "name": "python",
   "nbconvert_exporter": "python",
   "pygments_lexer": "ipython3",
   "version": "3.11.5"
  }
 },
 "nbformat": 4,
 "nbformat_minor": 5
}
